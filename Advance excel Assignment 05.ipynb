{
 "cells": [
  {
   "cell_type": "markdown",
   "id": "2d975854",
   "metadata": {},
   "source": [
    "# Advance excel Assignment 05"
   ]
  },
  {
   "cell_type": "markdown",
   "id": "3549ae31",
   "metadata": {},
   "source": [
    "QUESTION 01"
   ]
  },
  {
   "cell_type": "markdown",
   "id": "6f2b8fe7",
   "metadata": {},
   "source": [
    "There are 5 types of conditions in conditional formatting"
   ]
  },
  {
   "cell_type": "markdown",
   "id": "5f529946",
   "metadata": {},
   "source": [
    "QUESTION 02"
   ]
  },
  {
   "cell_type": "markdown",
   "id": "556facbf",
   "metadata": {},
   "source": [
    "Select cell >> format cells >> border tab>> choose style and color >> ok"
   ]
  },
  {
   "cell_type": "markdown",
   "id": "722228e2",
   "metadata": {},
   "source": [
    "QUESTION 03"
   ]
  },
  {
   "cell_type": "markdown",
   "id": "271ebd2a",
   "metadata": {},
   "source": [
    "Select data which u want to add currency \n",
    "go to home tab in numbers tab select the currency type"
   ]
  },
  {
   "cell_type": "markdown",
   "id": "2b536054",
   "metadata": {},
   "source": [
    "QUESTION 04"
   ]
  },
  {
   "cell_type": "markdown",
   "id": "fb2acf84",
   "metadata": {},
   "source": [
    "Select data which u want to add currency \n",
    "go to home tab in numbers tab select the currency type as percentage"
   ]
  },
  {
   "cell_type": "markdown",
   "id": "27d401da",
   "metadata": {},
   "source": [
    "QUESTION 05"
   ]
  },
  {
   "cell_type": "code",
   "execution_count": null,
   "id": "cf9d5a5d",
   "metadata": {},
   "outputs": [],
   "source": [
    "ALT+H+M+M"
   ]
  }
 ],
 "metadata": {
  "kernelspec": {
   "display_name": "Python 3 (ipykernel)",
   "language": "python",
   "name": "python3"
  },
  "language_info": {
   "codemirror_mode": {
    "name": "ipython",
    "version": 3
   },
   "file_extension": ".py",
   "mimetype": "text/x-python",
   "name": "python",
   "nbconvert_exporter": "python",
   "pygments_lexer": "ipython3",
   "version": "3.9.7"
  }
 },
 "nbformat": 4,
 "nbformat_minor": 5
}
