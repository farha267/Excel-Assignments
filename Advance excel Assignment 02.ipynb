{
 "cells": [
  {
   "cell_type": "markdown",
   "id": "13c39908",
   "metadata": {},
   "source": [
    "# Advance Excel Assignment 02"
   ]
  },
  {
   "cell_type": "markdown",
   "id": "f58291ed",
   "metadata": {},
   "source": [
    "QUESTION 01"
   ]
  },
  {
   "cell_type": "markdown",
   "id": "921c33e9",
   "metadata": {},
   "source": [
    "$ can denote currency format and also indicating absolute cell reference in formulas."
   ]
  },
  {
   "cell_type": "markdown",
   "id": "fb6d3935",
   "metadata": {},
   "source": [
    "QUESTION 02"
   ]
  },
  {
   "cell_type": "markdown",
   "id": "4b101458",
   "metadata": {},
   "source": [
    "By using f4 key"
   ]
  },
  {
   "cell_type": "markdown",
   "id": "b8f3540c",
   "metadata": {},
   "source": [
    "QUESTION 03"
   ]
  },
  {
   "cell_type": "markdown",
   "id": "11836aa2",
   "metadata": {},
   "source": [
    "PEMDAS \n",
    "*Parenthesis\n",
    "*exponents\n",
    "*multiplication\n",
    "*division\n",
    "*addition\n",
    "*subtraction"
   ]
  },
  {
   "cell_type": "markdown",
   "id": "f90b3760",
   "metadata": {},
   "source": [
    "QUESTION 04"
   ]
  },
  {
   "cell_type": "markdown",
   "id": "2fd8b27e",
   "metadata": {},
   "source": [
    "*SUM function\n",
    "*TEXT function\n",
    "*AVERAGE function\n",
    "*VLOOKUP\n",
    "*CONCATENATE\n",
    "\n",
    "**=SUM(A2:A5)\n",
    "**=AVERAGE(S5:Z9)"
   ]
  },
  {
   "cell_type": "markdown",
   "id": "c4a9d1da",
   "metadata": {},
   "source": [
    "QUESTION 05"
   ]
  },
  {
   "cell_type": "markdown",
   "id": "f0f701e1",
   "metadata": {},
   "source": [
    "When sorting the data and afting applying SUM function we use SUBTOTAL function"
   ]
  },
  {
   "cell_type": "markdown",
   "id": "8e3b6d27",
   "metadata": {},
   "source": [
    "QUESTION 06"
   ]
  },
  {
   "cell_type": "markdown",
   "id": "31f8d963",
   "metadata": {},
   "source": [
    "=VLOOKUP(what you want to look up, where you want to look for it,column number in the range)"
   ]
  }
 ],
 "metadata": {
  "kernelspec": {
   "display_name": "Python 3 (ipykernel)",
   "language": "python",
   "name": "python3"
  },
  "language_info": {
   "codemirror_mode": {
    "name": "ipython",
    "version": 3
   },
   "file_extension": ".py",
   "mimetype": "text/x-python",
   "name": "python",
   "nbconvert_exporter": "python",
   "pygments_lexer": "ipython3",
   "version": "3.9.7"
  }
 },
 "nbformat": 4,
 "nbformat_minor": 5
}
