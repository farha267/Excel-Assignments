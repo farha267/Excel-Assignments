{
 "cells": [
  {
   "cell_type": "markdown",
   "id": "2c3468fc",
   "metadata": {},
   "source": [
    "# Advance excel Assignment 04"
   ]
  },
  {
   "cell_type": "markdown",
   "id": "6146c8bf",
   "metadata": {},
   "source": [
    "QUESTION 01"
   ]
  },
  {
   "cell_type": "markdown",
   "id": "a6d7c23e",
   "metadata": {},
   "source": [
    "QUESTION 02"
   ]
  },
  {
   "cell_type": "markdown",
   "id": "b2fa399d",
   "metadata": {},
   "source": [
    "The row and coumn will be invisible and we will not be able to add any data"
   ]
  },
  {
   "cell_type": "markdown",
   "id": "7dc0b3c5",
   "metadata": {},
   "source": [
    "QUESTION 03"
   ]
  },
  {
   "cell_type": "markdown",
   "id": "2b859b06",
   "metadata": {},
   "source": [
    "To enter any large amount of data into the rows and columns we need to increase the width of the cells"
   ]
  },
  {
   "cell_type": "markdown",
   "id": "47163b18",
   "metadata": {},
   "source": [
    "QUESTION 04"
   ]
  },
  {
   "cell_type": "markdown",
   "id": "43e581a5",
   "metadata": {},
   "source": [
    "CTRL+ shift + 9"
   ]
  },
  {
   "cell_type": "markdown",
   "id": "4259ad00",
   "metadata": {},
   "source": [
    "QUESTION 05"
   ]
  },
  {
   "cell_type": "markdown",
   "id": "b92d78a8",
   "metadata": {},
   "source": [
    "Go to dialog box crtl+f \n",
    "go to specail select blanks option and click ok"
   ]
  },
  {
   "cell_type": "markdown",
   "id": "ef8bd543",
   "metadata": {},
   "source": [
    "QUESTION 06"
   ]
  },
  {
   "cell_type": "code",
   "execution_count": null,
   "id": "52861c0e",
   "metadata": {},
   "outputs": [],
   "source": [
    "home tab>> conditional formatting>> highlight cell rules >> duplicate values >> ok"
   ]
  }
 ],
 "metadata": {
  "kernelspec": {
   "display_name": "Python 3 (ipykernel)",
   "language": "python",
   "name": "python3"
  },
  "language_info": {
   "codemirror_mode": {
    "name": "ipython",
    "version": 3
   },
   "file_extension": ".py",
   "mimetype": "text/x-python",
   "name": "python",
   "nbconvert_exporter": "python",
   "pygments_lexer": "ipython3",
   "version": "3.9.7"
  }
 },
 "nbformat": 4,
 "nbformat_minor": 5
}
