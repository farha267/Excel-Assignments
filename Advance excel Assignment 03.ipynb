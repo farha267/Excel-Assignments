{
 "cells": [
  {
   "cell_type": "markdown",
   "id": "81690528",
   "metadata": {},
   "source": [
    "# Advance excel Assignment 03"
   ]
  },
  {
   "cell_type": "markdown",
   "id": "5797569c",
   "metadata": {},
   "source": [
    "QUESTION 01"
   ]
  },
  {
   "cell_type": "markdown",
   "id": "ecba8b83",
   "metadata": {},
   "source": [
    "**Select a cell next to numbers you want to sum, and click autosum.\n",
    "**if we need to sum a column and row sum we use autosum"
   ]
  },
  {
   "cell_type": "markdown",
   "id": "52d0ac40",
   "metadata": {},
   "source": [
    "QUESTION 02"
   ]
  },
  {
   "cell_type": "markdown",
   "id": "e8aac023",
   "metadata": {},
   "source": [
    "Shortcut key ALT="
   ]
  },
  {
   "cell_type": "markdown",
   "id": "ea62e21d",
   "metadata": {},
   "source": [
    "QUESTION 03"
   ]
  },
  {
   "cell_type": "markdown",
   "id": "2a73bd3e",
   "metadata": {},
   "source": [
    "Go to file>>formulas>>error checking>>\n",
    "and uncheck formulas"
   ]
  },
  {
   "cell_type": "markdown",
   "id": "7b5d90ef",
   "metadata": {},
   "source": [
    "QUESTION 04"
   ]
  },
  {
   "cell_type": "markdown",
   "id": "bb6b25e5",
   "metadata": {},
   "source": [
    "CTRL and select cells"
   ]
  },
  {
   "cell_type": "markdown",
   "id": "130f9f13",
   "metadata": {},
   "source": [
    "QUESTION 05"
   ]
  },
  {
   "cell_type": "markdown",
   "id": "b2a85eb9",
   "metadata": {},
   "source": [
    "If we press ALT and ocw we get the the width option to update"
   ]
  },
  {
   "cell_type": "markdown",
   "id": "21656110",
   "metadata": {},
   "source": [
    "QUESTION 06"
   ]
  },
  {
   "cell_type": "code",
   "execution_count": null,
   "id": "2a804f2c",
   "metadata": {},
   "outputs": [],
   "source": [
    "If you right-click on a row reference number and click on Insert, the row will be added next to the selected row"
   ]
  }
 ],
 "metadata": {
  "kernelspec": {
   "display_name": "Python 3 (ipykernel)",
   "language": "python",
   "name": "python3"
  },
  "language_info": {
   "codemirror_mode": {
    "name": "ipython",
    "version": 3
   },
   "file_extension": ".py",
   "mimetype": "text/x-python",
   "name": "python",
   "nbconvert_exporter": "python",
   "pygments_lexer": "ipython3",
   "version": "3.9.7"
  }
 },
 "nbformat": 4,
 "nbformat_minor": 5
}
