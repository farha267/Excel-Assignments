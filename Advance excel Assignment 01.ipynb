{
 "cells": [
  {
   "cell_type": "markdown",
   "id": "985e52f4",
   "metadata": {},
   "source": [
    "# Advance excel assignment 01"
   ]
  },
  {
   "cell_type": "markdown",
   "id": "31355bfe",
   "metadata": {},
   "source": [
    "QUESTION 01"
   ]
  },
  {
   "cell_type": "markdown",
   "id": "56939524",
   "metadata": {},
   "source": [
    "boxes in the grid of excel worksheet is called cell"
   ]
  },
  {
   "cell_type": "markdown",
   "id": "7f63c163",
   "metadata": {},
   "source": [
    "QUESTION 02"
   ]
  },
  {
   "cell_type": "markdown",
   "id": "cecaac18",
   "metadata": {},
   "source": [
    "Menu bar>Review>Protect sheet>Password"
   ]
  },
  {
   "cell_type": "markdown",
   "id": "c3b5a946",
   "metadata": {},
   "source": [
    "QUESTION 03"
   ]
  },
  {
   "cell_type": "markdown",
   "id": "279b6a90",
   "metadata": {},
   "source": [
    "*Open the workbook that you want to move the sheet to.\n",
    "   *On the menu click the workbook that contains sheet\n",
    "      *on the edit menu, click shhet>Move or copy sheet"
   ]
  },
  {
   "cell_type": "markdown",
   "id": "390f15f3",
   "metadata": {},
   "source": [
    "QUESTION 04"
   ]
  },
  {
   "cell_type": "markdown",
   "id": "55317fef",
   "metadata": {},
   "source": [
    "CTRL+N"
   ]
  },
  {
   "cell_type": "markdown",
   "id": "a147a2c5",
   "metadata": {},
   "source": [
    "QUESTION 05"
   ]
  },
  {
   "cell_type": "markdown",
   "id": "9d469cd4",
   "metadata": {},
   "source": [
    "*Tittle bar\n",
    "*menu bar\n",
    "*column bar\n",
    "*name box\n",
    "*formula bar\n",
    "*task bar"
   ]
  },
  {
   "cell_type": "markdown",
   "id": "0618d350",
   "metadata": {},
   "source": [
    "QUESTION 06"
   ]
  },
  {
   "cell_type": "markdown",
   "id": "71859f39",
   "metadata": {},
   "source": [
    "Whenever we need to repeat the same calculation across multiple rows or columns"
   ]
  },
  {
   "cell_type": "code",
   "execution_count": null,
   "id": "01f19870",
   "metadata": {},
   "outputs": [],
   "source": []
  }
 ],
 "metadata": {
  "kernelspec": {
   "display_name": "Python 3 (ipykernel)",
   "language": "python",
   "name": "python3"
  },
  "language_info": {
   "codemirror_mode": {
    "name": "ipython",
    "version": 3
   },
   "file_extension": ".py",
   "mimetype": "text/x-python",
   "name": "python",
   "nbconvert_exporter": "python",
   "pygments_lexer": "ipython3",
   "version": "3.9.7"
  }
 },
 "nbformat": 4,
 "nbformat_minor": 5
}
